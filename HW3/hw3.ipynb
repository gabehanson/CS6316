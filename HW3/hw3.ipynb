{
 "cells": [
  {
   "cell_type": "markdown",
   "metadata": {},
   "source": [
    "# HW 3"
   ]
  },
  {
   "cell_type": "code",
   "execution_count": 20,
   "metadata": {},
   "outputs": [],
   "source": [
    "import pandas as pd\n",
    "import numpy as np\n",
    "from sklearn.neural_network import MLPClassifier\n",
    "from sklearn.metrics import accuracy_score\n",
    "import numpy as np\n",
    "from numpy import random \n",
    "import matplotlib.pyplot as plt\n",
    "import sklearn\n",
    "from tqdm import tqdm\n",
    "import time\n",
    "import seaborn as sns\n",
    "%matplotlib inline"
   ]
  },
  {
   "cell_type": "markdown",
   "metadata": {},
   "source": [
    "## Question (a)"
   ]
  },
  {
   "cell_type": "code",
   "execution_count": 2,
   "metadata": {},
   "outputs": [],
   "source": [
    "# load the data\n",
    "devX = pd.read_csv('datasets-forrelease/devX-3d.csv', header = None, sep = '\\t')\n",
    "devY = pd.read_csv('datasets-forrelease/devY-3d.csv', header = None, sep = '\\t')\n",
    "trnX = pd.read_csv('datasets-forrelease/trnX-3d.csv', header = None, sep = '\\t')\n",
    "trnY = pd.read_csv('datasets-forrelease/trnY-3d.csv', header = None, sep = '\\t')\n",
    "testX = pd.read_csv('datasets-forrelease/tstX-3d.csv', header = None, sep = '\\t')"
   ]
  },
  {
   "cell_type": "code",
   "execution_count": 180,
   "metadata": {},
   "outputs": [],
   "source": [
    "trnY = np.ravel(trnY);"
   ]
  },
  {
   "cell_type": "code",
   "execution_count": 181,
   "metadata": {},
   "outputs": [],
   "source": [
    "clftrn = MLPClassifier().fit(trnX, trnY)"
   ]
  },
  {
   "cell_type": "code",
   "execution_count": 182,
   "metadata": {},
   "outputs": [],
   "source": [
    "trn_yhat = clftrn.predict(trnX)"
   ]
  },
  {
   "cell_type": "code",
   "execution_count": 183,
   "metadata": {},
   "outputs": [
    {
     "data": {
      "text/plain": [
       "0.802880658436214"
      ]
     },
     "execution_count": 183,
     "metadata": {},
     "output_type": "execute_result"
    }
   ],
   "source": [
    "accuracy_score(trnY, trn_yhat)"
   ]
  },
  {
   "cell_type": "markdown",
   "metadata": {},
   "source": [
    "# training accuracy = 80.29%"
   ]
  },
  {
   "cell_type": "code",
   "execution_count": 184,
   "metadata": {},
   "outputs": [],
   "source": [
    "dev_yhat = clftrn.predict(devX)"
   ]
  },
  {
   "cell_type": "code",
   "execution_count": 185,
   "metadata": {},
   "outputs": [
    {
     "data": {
      "text/plain": [
       "0.8074074074074075"
      ]
     },
     "execution_count": 185,
     "metadata": {},
     "output_type": "execute_result"
    }
   ],
   "source": [
    "accuracy_score(devY, dev_yhat)"
   ]
  },
  {
   "cell_type": "markdown",
   "metadata": {},
   "source": [
    "# development accuracy = 80.74%"
   ]
  },
  {
   "cell_type": "markdown",
   "metadata": {},
   "source": [
    "## Question (b)"
   ]
  },
  {
   "cell_type": "code",
   "execution_count": 9,
   "metadata": {},
   "outputs": [],
   "source": [
    "from sklearn.model_selection import GridSearchCV"
   ]
  },
  {
   "cell_type": "code",
   "execution_count": 10,
   "metadata": {},
   "outputs": [],
   "source": [
    "# previous runs have indicated adam is the better solver \n",
    "\n",
    "params = [{'hidden_layer_sizes' : [10, 25, 50, 100, 200],\n",
    "           'activation':['logistic', 'tanh', 'relu'],\n",
    "           'solver': ['adam'],\n",
    "          'learning_rate_init': [0.001, 0.01, 0.05, 0.1],\n",
    "          'batch_size' : [25, 50, 100, 200, 500]}]"
   ]
  },
  {
   "cell_type": "code",
   "execution_count": 11,
   "metadata": {},
   "outputs": [],
   "source": [
    "clf_gs = MLPClassifier()"
   ]
  },
  {
   "cell_type": "code",
   "execution_count": 12,
   "metadata": {},
   "outputs": [],
   "source": [
    "from warnings import simplefilter\n",
    "from sklearn.exceptions import ConvergenceWarning\n",
    "simplefilter(\"ignore\", category=ConvergenceWarning)"
   ]
  },
  {
   "cell_type": "code",
   "execution_count": 13,
   "metadata": {},
   "outputs": [
    {
     "name": "stdout",
     "output_type": "stream",
     "text": [
      "Fitting 5 folds for each of 300 candidates, totalling 1500 fits\n",
      "The Best parameters are:  {'activation': 'logistic', 'batch_size': 50, 'hidden_layer_sizes': 100, 'learning_rate_init': 0.05, 'solver': 'adam'}\n",
      "The optimal parameters were found in : 2190.837883234024  seconds\n"
     ]
    }
   ],
   "source": [
    "t = time.time()\n",
    "\n",
    "gs_clf = GridSearchCV(estimator = clf_gs,\n",
    "                      param_grid=params,\n",
    "                      scoring='accuracy',\n",
    "                      cv=5,\n",
    "                     verbose = 1)\n",
    "gs_clf.fit(trnX, trnY)\n",
    "\n",
    "elapsed = time.time() - t\n",
    "print('The Best parameters are: ', gs_clf.best_params_)\n",
    "print('The optimal parameters were found in :', elapsed, ' seconds')\n"
   ]
  },
  {
   "cell_type": "code",
   "execution_count": 53,
   "metadata": {},
   "outputs": [],
   "source": [
    "activation = gs_clf.cv_results_['param_activation']\n",
    "layers = gs_clf.cv_results_['param_hidden_layer_sizes']\n",
    "lr = gs_clf.cv_results_['param_learning_rate_init']\n",
    "bs = gs_clf.cv_results_['param_batch_size']"
   ]
  },
  {
   "cell_type": "code",
   "execution_count": 55,
   "metadata": {},
   "outputs": [],
   "source": [
    "log = activation == 'logistic'\n",
    "relu = activation == 'relu'\n",
    "tanh = activation == 'tanh'\n",
    "layer10  = layers == 10\n",
    "layer25  = layers == 25\n",
    "layer50  = layers == 50\n",
    "layer100 = layers == 100\n",
    "layer200 = layers == 200\n",
    "lr1 = lr == 0.001\n",
    "lr2 = lr == 0.01\n",
    "lr3 = lr == 0.05\n",
    "lr4 = lr == 0.1\n",
    "bs25  = bs == 25\n",
    "bs50  = bs == 50\n",
    "bs100 = bs == 100\n",
    "bs200 = bs == 200\n",
    "bs500 = bs == 500"
   ]
  },
  {
   "cell_type": "code",
   "execution_count": 51,
   "metadata": {},
   "outputs": [
    {
     "name": "stdout",
     "output_type": "stream",
     "text": [
      "The average rank of a model with a Relu activation function was:  177.22\n",
      "The average rank of a model with a tanh activation function was:  130.95\n",
      "The average rank of a model with a logistic activation function was:  142.08\n",
      "tanh seems to be the better activation function\n"
     ]
    }
   ],
   "source": [
    "print('The average rank of a model with a Relu activation function was: ', np.mean(rankings[relu]))\n",
    "print('The average rank of a model with a tanh activation function was: ', np.mean(rankings[tanh]))\n",
    "print('The average rank of a model with a logistic activation function was: ', np.mean(rankings[log]))\n",
    "print('tanh seems to be the better activation function')"
   ]
  },
  {
   "cell_type": "code",
   "execution_count": 59,
   "metadata": {},
   "outputs": [
    {
     "name": "stdout",
     "output_type": "stream",
     "text": [
      "The average rank of a model with 10 hidden layer swas:  201.83333333333334\n",
      "The average rank of a model with 25 hidden layers was:  143.86666666666667\n",
      "The average rank of a model with 50 hidden layers was:  129.03333333333333\n",
      "The average rank of a model with 100 hidden layers was:  129.8\n",
      "The average rank of a model with 200 hidden layers was:  145.88333333333333\n",
      "It seems the optimal number of layers is between 25 and 100\n"
     ]
    }
   ],
   "source": [
    "print('The average rank of a model with 10 hidden layer swas: ', np.mean(rankings[layer10]))\n",
    "print('The average rank of a model with 25 hidden layers was: ', np.mean(rankings[layer25]))\n",
    "print('The average rank of a model with 50 hidden layers was: ', np.mean(rankings[layer50]))\n",
    "print('The average rank of a model with 100 hidden layers was: ', np.mean(rankings[layer100]))\n",
    "print('The average rank of a model with 200 hidden layers was: ', np.mean(rankings[layer200]))\n",
    "print('It seems the optimal number of layers is between 25 and 100')"
   ]
  },
  {
   "cell_type": "code",
   "execution_count": 60,
   "metadata": {},
   "outputs": [
    {
     "name": "stdout",
     "output_type": "stream",
     "text": [
      "The average rank of a model with a initial learning rate of 0.001 was:  236.64\n",
      "The average rank of a model with a initial learning rate of 0.01 was:  121.52\n",
      "The average rank of a model with a initial learning rate of 0.05 was:  111.56\n",
      "The average rank of a model with a initial learning rate of 0.1 was:  130.61333333333334\n",
      "0.05 seems to be the better initial learning rate\n"
     ]
    }
   ],
   "source": [
    "print('The average rank of a model with a initial learning rate of 0.001 was: ', np.mean(rankings[lr1]))\n",
    "print('The average rank of a model with a initial learning rate of 0.01 was: ', np.mean(rankings[lr2]))\n",
    "print('The average rank of a model with a initial learning rate of 0.05 was: ', np.mean(rankings[lr3]))\n",
    "print('The average rank of a model with a initial learning rate of 0.1 was: ', np.mean(rankings[lr4]))\n",
    "print('0.05 seems to be the better initial learning rate')"
   ]
  },
  {
   "cell_type": "code",
   "execution_count": 58,
   "metadata": {},
   "outputs": [
    {
     "name": "stdout",
     "output_type": "stream",
     "text": [
      "The average rank of a model with a batch size of 25 was:  154.05\n",
      "The average rank of a model with a batch size of 50 was:  149.88333333333333\n",
      "The average rank of a model with a batch size of 100 was:  143.78333333333333\n",
      "The average rank of a model with a batch size of 200 was:  147.7\n",
      "The average rank of a model with a batch size of 500 was:  155.0\n",
      "Batch size seems to be less influential than other parameters\n"
     ]
    }
   ],
   "source": [
    "print('The average rank of a model with a batch size of 25 was: ', np.mean(rankings[bs25]))\n",
    "print('The average rank of a model with a batch size of 50 was: ',  np.mean(rankings[bs50]))\n",
    "print('The average rank of a model with a batch size of 100 was: ',  np.mean(rankings[bs100]))\n",
    "print('The average rank of a model with a batch size of 200 was: ',  np.mean(rankings[bs200]))\n",
    "print('The average rank of a model with a batch size of 500 was: ',  np.mean(rankings[bs500]))\n",
    "print('Batch size seems to be less influential than other parameters')"
   ]
  },
  {
   "cell_type": "markdown",
   "metadata": {},
   "source": [
    "### Lets check hidden layer size and batch size"
   ]
  },
  {
   "cell_type": "code",
   "execution_count": 70,
   "metadata": {},
   "outputs": [],
   "source": [
    "params3 = [{'hidden_layer_sizes' : [80,90,100,110,120],\n",
    "          'batch_size' : [40,60,80,100]}]\n",
    "\n",
    "clf_gs = MLPClassifier(activation = 'tanh', solver= 'adam', learning_rate_init = 0.05)"
   ]
  },
  {
   "cell_type": "code",
   "execution_count": 71,
   "metadata": {},
   "outputs": [
    {
     "name": "stdout",
     "output_type": "stream",
     "text": [
      "Fitting 5 folds for each of 20 candidates, totalling 100 fits\n",
      "The best parameters found are:  {'batch_size': 100, 'hidden_layer_sizes': 120}\n",
      "The optimal parameters were found in : 84.27157711982727  seconds\n"
     ]
    }
   ],
   "source": [
    "t = time.time()\n",
    "\n",
    "gs_clf3 = GridSearchCV(estimator = clf_gs,\n",
    "                      param_grid=params3,\n",
    "                      scoring='accuracy',\n",
    "                      cv=5,\n",
    "                     verbose = 1)\n",
    "gs_clf3.fit(trnX, trnY)\n",
    "\n",
    "elapsed = time.time() - t\n",
    "print('The best parameters found are: ', gs_clf3.best_params_)\n",
    "print('The optimal parameters were found in :', elapsed, ' seconds')\n"
   ]
  },
  {
   "cell_type": "code",
   "execution_count": 73,
   "metadata": {},
   "outputs": [],
   "source": [
    "bs = gs_clf3.cv_results_['param_batch_size']\n",
    "layers = gs_clf3.cv_results_['param_hidden_layer_sizes']"
   ]
  },
  {
   "cell_type": "code",
   "execution_count": 80,
   "metadata": {},
   "outputs": [],
   "source": [
    "layer80 = layers == 80\n",
    "layer90  = layers == 90\n",
    "layer100  = layers == 100\n",
    "layer110 = layers == 110\n",
    "layer120 = layers == 120\n",
    "bs40  = bs == 40\n",
    "bs60  = bs == 60\n",
    "bs80 = bs == 80\n",
    "bs100 = bs == 100"
   ]
  },
  {
   "cell_type": "code",
   "execution_count": 103,
   "metadata": {},
   "outputs": [],
   "source": [
    "scores = list(gs_clf3.cv_results_['mean_test_score'])\n",
    "layer_num = list(gs_clf3.cv_results_['param_hidden_layer_sizes'].data)\n",
    "batch_num = list(gs_clf3.cv_results_['param_batch_size'].data)"
   ]
  },
  {
   "cell_type": "code",
   "execution_count": 108,
   "metadata": {},
   "outputs": [],
   "source": [
    "heatmap = pd.DataFrame()\n",
    "heatmap['accuracy'] = scores\n",
    "heatmap['layer_num'] = layer_num\n",
    "heatmap['batch_num'] = batch_num"
   ]
  },
  {
   "cell_type": "code",
   "execution_count": 121,
   "metadata": {},
   "outputs": [],
   "source": [
    "heatmap = pd.pivot(heatmap, values =  'accuracy', index = 'batch_num', columns = 'layer_num')"
   ]
  },
  {
   "cell_type": "code",
   "execution_count": 122,
   "metadata": {},
   "outputs": [
    {
     "data": {
      "text/plain": [
       "<AxesSubplot:xlabel='layer_num', ylabel='batch_num'>"
      ]
     },
     "execution_count": 122,
     "metadata": {},
     "output_type": "execute_result"
    },
    {
     "data": {
      "image/png": "[encoded data removed]",
      "text/plain": [
       "<Figure size 432x288 with 2 Axes>"
      ]
     },
     "metadata": {
      "needs_background": "light"
     },
     "output_type": "display_data"
    }
   ],
   "source": [
    "sns.heatmap(heatmap)"
   ]
  },
  {
   "cell_type": "markdown",
   "metadata": {},
   "source": [
    "## keep checking"
   ]
  },
  {
   "cell_type": "code",
   "execution_count": 158,
   "metadata": {},
   "outputs": [],
   "source": [
    "params4 = [{'hidden_layer_sizes' : [85,95,105,115,125,135],\n",
    "          'batch_size' : [100, 120, 140,160, 180]}]\n",
    "\n",
    "clf_gs = MLPClassifier(activation = 'tanh', solver= 'adam', learning_rate_init = 0.05)"
   ]
  },
  {
   "cell_type": "code",
   "execution_count": 159,
   "metadata": {},
   "outputs": [
    {
     "name": "stdout",
     "output_type": "stream",
     "text": [
      "Fitting 5 folds for each of 30 candidates, totalling 150 fits\n",
      "The best parameters found are:  {'batch_size': 180, 'hidden_layer_sizes': 85}\n",
      "The optimal parameters were found in : 149.88285994529724  seconds\n"
     ]
    }
   ],
   "source": [
    "t = time.time()\n",
    "\n",
    "gs_clf4 = GridSearchCV(estimator = clf_gs,\n",
    "                      param_grid=params4,\n",
    "                      scoring='accuracy',\n",
    "                      cv=5,\n",
    "                     verbose = 1)\n",
    "gs_clf4.fit(trnX, trnY)\n",
    "\n",
    "elapsed = time.time() - t\n",
    "print('The best parameters found are: ', gs_clf4.best_params_)\n",
    "print('The optimal parameters were found in :', elapsed, ' seconds')\n"
   ]
  },
  {
   "cell_type": "code",
   "execution_count": 160,
   "metadata": {},
   "outputs": [],
   "source": [
    "bs = gs_clf4.cv_results_['param_batch_size']\n",
    "layers = gs_clf4.cv_results_['param_hidden_layer_sizes']"
   ]
  },
  {
   "cell_type": "code",
   "execution_count": 162,
   "metadata": {},
   "outputs": [],
   "source": [
    "scores = list(gs_clf4.cv_results_['mean_test_score'])\n",
    "layer_num = list(gs_clf4.cv_results_['param_hidden_layer_sizes'].data)\n",
    "batch_num = list(gs_clf4.cv_results_['param_batch_size'].data)\n",
    "heatmap = pd.DataFrame()\n",
    "heatmap['accuracy'] = scores\n",
    "heatmap['layer_num'] = layer_num\n",
    "heatmap['batch_num'] = batch_num\n",
    "heatmap = pd.pivot(heatmap, values = 'accuracy', index = 'batch_num', columns = 'layer_num')"
   ]
  },
  {
   "cell_type": "code",
   "execution_count": 165,
   "metadata": {},
   "outputs": [
    {
     "data": {
      "text/plain": [
       "<AxesSubplot:xlabel='layer_num', ylabel='batch_num'>"
      ]
     },
     "execution_count": 165,
     "metadata": {},
     "output_type": "execute_result"
    },
    {
     "data": {
      "image/png": "[encoded data removed]",
      "text/plain": [
       "<Figure size 432x288 with 2 Axes>"
      ]
     },
     "metadata": {
      "needs_background": "light"
     },
     "output_type": "display_data"
    }
   ],
   "source": [
    "sns.heatmap(heatmap)"
   ]
  },
  {
   "cell_type": "markdown",
   "metadata": {},
   "source": [
    "# This seems to be about as good as it gets, but it also seems as though there is quite a bit variability for parameters, I will go with 180 as batch size and 85 hidden layers"
   ]
  },
  {
   "cell_type": "code",
   "execution_count": 166,
   "metadata": {},
   "outputs": [],
   "source": [
    "clf_best = MLPClassifier(activation = 'tanh', batch_size= 180, hidden_layer_sizes= 85, learning_rate_init= 0.05, solver= 'adam')"
   ]
  },
  {
   "cell_type": "code",
   "execution_count": 167,
   "metadata": {},
   "outputs": [
    {
     "data": {
      "text/plain": [
       "MLPClassifier(activation='tanh', batch_size=180, hidden_layer_sizes=85,\n",
       "              learning_rate_init=0.05)"
      ]
     },
     "execution_count": 167,
     "metadata": {},
     "output_type": "execute_result"
    }
   ],
   "source": [
    "clf_best.fit(trnX, trnY)"
   ]
  },
  {
   "cell_type": "code",
   "execution_count": 168,
   "metadata": {},
   "outputs": [],
   "source": [
    "best_train_pred = clf_best.predict(trnX)"
   ]
  },
  {
   "cell_type": "code",
   "execution_count": 177,
   "metadata": {},
   "outputs": [
    {
     "data": {
      "text/plain": [
       "0.8296296296296296"
      ]
     },
     "execution_count": 177,
     "metadata": {},
     "output_type": "execute_result"
    }
   ],
   "source": [
    "accuracy_score(trnY, best_train_pred)"
   ]
  },
  {
   "cell_type": "code",
   "execution_count": 178,
   "metadata": {},
   "outputs": [],
   "source": [
    "best_pred = clf_best.predict(devX)"
   ]
  },
  {
   "cell_type": "code",
   "execution_count": 179,
   "metadata": {},
   "outputs": [
    {
     "data": {
      "text/plain": [
       "0.8296296296296296"
      ]
     },
     "execution_count": 179,
     "metadata": {},
     "output_type": "execute_result"
    }
   ],
   "source": [
    "accuracy_score(devY, best_pred)"
   ]
  },
  {
   "cell_type": "markdown",
   "metadata": {},
   "source": [
    "# Best development accuracy: 82.96%"
   ]
  },
  {
   "cell_type": "markdown",
   "metadata": {},
   "source": [
    "# hyperparameters chosen: activation = tanh, batch size = 180, hidden layer sizes= 85, learning rate init= 0.05, solver= adam"
   ]
  },
  {
   "cell_type": "markdown",
   "metadata": {},
   "source": [
    "# Difference between best accuracy from tuned parameters and default parameters: 82.96% - 80.74% = 2.22% improvement "
   ]
  }
 ],
 "metadata": {
  "kernelspec": {
   "display_name": "metabolism",
   "language": "python",
   "name": "metabolism"
  },
  "language_info": {
   "codemirror_mode": {
    "name": "ipython",
    "version": 3
   },
   "file_extension": ".py",
   "mimetype": "text/x-python",
   "name": "python",
   "nbconvert_exporter": "python",
   "pygments_lexer": "ipython3",
   "version": "3.7.6"
  }
 },
 "nbformat": 4,
 "nbformat_minor": 4
}
