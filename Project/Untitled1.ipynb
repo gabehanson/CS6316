{
 "cells": [
  {
   "cell_type": "code",
   "execution_count": null,
   "id": "1eee12c9",
   "metadata": {},
   "outputs": [],
   "source": [
    "import numpy as np\n",
    "import pandas as pd\n",
    "import matplotlib.pyplot as plt\n",
    "import seaborn as sns\n",
    "import time\n",
    "import tensorflow as tf\n",
    "from tensorflow import keras\n",
    "from tensorflow.keras import layers\n",
    "%matplotlib inline\n",
    "import conx as cx\n",
    "#from cirq.contrib.svg import SVGCircuit"
   ]
  },
  {
   "cell_type": "raw",
   "id": "6ae15825",
   "metadata": {},
   "source": [
    "The MNIST dataset (Modified National Institute of Standards and Technology dataset) is a dataset of handwritten digits which used to serve as a benchmark dataset for various image processing tasks. \n",
    "Current dataset consists of 50k training images, 10k validation images, and 10k testing images. Each image has 28 by 28 pixels (equivalently, 784 features).\n",
    "Your task is to train a neural network with 50k training samples to classify 10 digits (0-9) and report its classification results on 10k testing images (ignore validation images for now).\n",
    "Try different number of hidden units, different weight/bias initializations, different learning rates, and discuss whether they affect the training/testing performance."
   ]
  },
  {
   "cell_type": "raw",
   "id": "ae499570",
   "metadata": {},
   "source": [
    "## plan: build ~10 models with various parameter sets (including different numbers of neurons in the hidden layers, different weight bias initializations, different learning rates). Calculate the error and write up a report "
   ]
  },
  {
   "cell_type": "code",
   "execution_count": 3,
   "id": "4720fd94",
   "metadata": {},
   "outputs": [
    {
     "ename": "NameError",
     "evalue": "name 'cx' is not defined",
     "output_type": "error",
     "traceback": [
      "\u001b[0;31m---------------------------------------------------------------------------\u001b[0m",
      "\u001b[0;31mNameError\u001b[0m                                 Traceback (most recent call last)",
      "Input \u001b[0;32mIn [3]\u001b[0m, in \u001b[0;36m<cell line: 1>\u001b[0;34m()\u001b[0m\n\u001b[0;32m----> 1\u001b[0m mnist \u001b[38;5;241m=\u001b[39m \u001b[43mcx\u001b[49m\u001b[38;5;241m.\u001b[39mDataset\u001b[38;5;241m.\u001b[39mget(\u001b[38;5;124m'\u001b[39m\u001b[38;5;124mmnist\u001b[39m\u001b[38;5;124m'\u001b[39m)\n\u001b[1;32m      2\u001b[0m mnist\u001b[38;5;241m.\u001b[39minfo()\n",
      "\u001b[0;31mNameError\u001b[0m: name 'cx' is not defined"
     ]
    }
   ],
   "source": [
    "mnist = cx.Dataset.get('mnist')\n",
    "mnist.info()\n"
   ]
  },
  {
   "cell_type": "code",
   "execution_count": null,
   "id": "368c397f",
   "metadata": {},
   "outputs": [],
   "source": []
  }
 ],
 "metadata": {
  "kernelspec": {
   "display_name": "Tensorflow",
   "language": "python",
   "name": "tensorflow"
  },
  "language_info": {
   "codemirror_mode": {
    "name": "ipython",
    "version": 3
   },
   "file_extension": ".py",
   "mimetype": "text/x-python",
   "name": "python",
   "nbconvert_exporter": "python",
   "pygments_lexer": "ipython3",
   "version": "3.10.4"
  }
 },
 "nbformat": 4,
 "nbformat_minor": 5
}
