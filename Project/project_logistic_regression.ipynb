{
 "cells": [
  {
   "cell_type": "code",
   "execution_count": 44,
   "metadata": {},
   "outputs": [],
   "source": [
    "import numpy as np\n",
    "import pandas as pd\n",
    "import sklearn\n",
    "from sklearn.model_selection import train_test_split\n",
    "from sklearn.linear_model import LogisticRegression\n",
    "from sklearn import preprocessing\n",
    "import matplotlib.pyplot as plt\n",
    "import seaborn as sns\n",
    "from sklearn import metrics\n",
    "import time\n",
    "from sklearn.model_selection import GridSearchCV"
   ]
  },
  {
   "cell_type": "code",
   "execution_count": null,
   "metadata": {},
   "outputs": [],
   "source": []
  },
  {
   "cell_type": "code",
   "execution_count": 2,
   "metadata": {},
   "outputs": [],
   "source": [
    "data1 = pd.read_csv('project3_dataset1.txt', sep = '\\t', header = None)\n",
    "data2 = pd.read_csv('project3_dataset2.txt', sep = '\\t', header = None)"
   ]
  },
  {
   "cell_type": "code",
   "execution_count": 3,
   "metadata": {},
   "outputs": [],
   "source": [
    "data1_X = data1.iloc[:,:30]\n",
    "data1_y = data1.iloc[:,30]\n",
    "\n",
    "data2_X = data2.iloc[:,:9]\n",
    "data2_y = data2.iloc[:,9]"
   ]
  },
  {
   "cell_type": "markdown",
   "metadata": {},
   "source": [
    "# Task:\n",
    "# 1. Implement the given method\n",
    "# 2. Adopt 10-fold Cross Validation to evaluate the performance of all methods on the provided two datasets in terms of Accuracy, Precision, Recall, F-1 measure, and AUC (area under the curve).\n",
    "# 3. Conduct analysis on Bias-variance tradeoff and overfitting vs. underfitting for all methods\n",
    "# 4. Discuss which algorithm works best in each scenario/validation."
   ]
  },
  {
   "cell_type": "markdown",
   "metadata": {},
   "source": [
    "## For logistic regression, the only choice is whether to apply a regularization and if so, scale the labmda value\n",
    "### So implement a 10 fold cv and test which is the best labmda value to use for regularization"
   ]
  },
  {
   "cell_type": "markdown",
   "metadata": {},
   "source": [
    "### dataset 1"
   ]
  },
  {
   "cell_type": "code",
   "execution_count": 24,
   "metadata": {},
   "outputs": [],
   "source": [
    "X_train, X_test, y_train, y_test = train_test_split(data1_X, data1_y, test_size=0.2, random_state=42)"
   ]
  },
  {
   "cell_type": "code",
   "execution_count": 28,
   "metadata": {},
   "outputs": [
    {
     "name": "stdout",
     "output_type": "stream",
     "text": [
      "[1.41107516e+01 1.93148352e+01 9.18348791e+01 6.53812967e+02\n",
      " 9.62530769e-02 1.03363956e-01 8.86329516e-02 4.86383319e-02\n",
      " 1.81124396e-01 6.27304396e-02 4.02307912e-01 1.21019846e+00\n",
      " 2.82773253e+00 3.99914176e+01 7.02563956e-03 2.52447297e-02\n",
      " 3.19192330e-02 1.16744374e-02 2.04022154e-02 3.74322703e-03\n",
      " 1.62612352e+01 2.56728352e+01 1.07198242e+02 8.82366593e+02\n",
      " 1.32161385e-01 2.52096198e-01 2.72137976e-01 1.14082218e-01\n",
      " 2.89362418e-01 8.35342198e-02]\n"
     ]
    }
   ],
   "source": [
    "# call the method and then compute the mean and std\n",
    "scaler = preprocessing.StandardScaler()\n",
    "scaler.fit(X_train)\n",
    "print(scaler.mean_)\n",
    "# https://scikit-learn.org/stable/modules/preprocessing.html\n"
   ]
  },
  {
   "cell_type": "code",
   "execution_count": 38,
   "metadata": {},
   "outputs": [
    {
     "name": "stdout",
     "output_type": "stream",
     "text": [
      "Mean:  [-5.38946177e-17 -3.67227616e-16 -5.48325122e-17 -1.50246116e-16\n",
      " -1.29005475e-15 -1.83125798e-16  1.27035135e-16 -1.22368538e-16\n",
      "  8.30837231e-16  7.78315141e-16  1.27675648e-16 -5.12410627e-18\n",
      " -3.34286933e-17 -2.13504428e-17  3.26356768e-16 -1.49453099e-17\n",
      "  3.14004012e-17 -2.15090461e-16 -1.83468930e-16  1.03092138e-16\n",
      "  2.96084890e-16  2.42297025e-16 -1.41400932e-16 -2.27107710e-16\n",
      " -4.41161149e-16  1.54089196e-16  3.19890634e-16 -7.46655485e-17\n",
      "  6.78700075e-16 -2.06184276e-16]\n",
      "Standard Deviation:  1.0\n"
     ]
    }
   ],
   "source": [
    "# this scales the data to have a mean of zero and a std of 1 for each feature\n",
    "X_scaled = scaler.transform(X_train)\n",
    "print('Mean: ', sum(X_scaled)/len(X_scaled))\n",
    "print('Standard Deviation: ', np.std(X_scaled))"
   ]
  },
  {
   "cell_type": "code",
   "execution_count": 106,
   "metadata": {},
   "outputs": [],
   "source": [
    "# define the model\n",
    "logReg = LogisticRegression(random_state=42, penalty = 'l2', max_iter=250)\n",
    "C_values = [0.0001, 0.001, 0.005, 0.01, 0.05, 0.1, 0.5, 1, 10, 100]\n",
    "params = [{'C' : [0.0001, 0.001, 0.005, 0.01, 0.05, 0.1, 0.5, 1, 10, 100]}]\n",
    "\n",
    "# I can either apply no regularization or an l2 regularization\n",
    "# none gives training error of 0, test error of 2.9%, l2 gives training error of 1.3%, test error of 1.8%"
   ]
  },
  {
   "cell_type": "code",
   "execution_count": 107,
   "metadata": {},
   "outputs": [
    {
     "name": "stdout",
     "output_type": "stream",
     "text": [
      "Fitting 10 folds for each of 10 candidates, totalling 100 fits\n",
      "The Best parameters are:  {'C': 0.5}\n",
      "The optimal parameters were found in : 1.1603639125823975  seconds\n"
     ]
    }
   ],
   "source": [
    "t = time.time()\n",
    "\n",
    "gs_logReg = GridSearchCV(estimator = logReg,\n",
    "                      param_grid=params,\n",
    "                      scoring='accuracy',\n",
    "                      cv=10,\n",
    "                     verbose = 1)\n",
    "gs_logReg.fit(X_scaled, y_train)\n",
    "\n",
    "elapsed = time.time() - t\n",
    "print('The Best parameters are: ', gs_logReg.best_params_)\n",
    "print('The optimal parameters were found in :', elapsed, ' seconds')\n"
   ]
  },
  {
   "cell_type": "code",
   "execution_count": 108,
   "metadata": {},
   "outputs": [
    {
     "data": {
      "text/plain": [
       "Text(33.0, 0.5, 'Regularization strength C')"
      ]
     },
     "execution_count": 108,
     "metadata": {},
     "output_type": "execute_result"
    },
    {
     "data": {
      "image/png": "[encoded data removed]",
      "text/plain": [
       "<Figure size 432x288 with 2 Axes>"
      ]
     },
     "metadata": {
      "needs_background": "light"
     },
     "output_type": "display_data"
    }
   ],
   "source": [
    "results = pd.DataFrame(gs_logReg.cv_results_['mean_test_score'])\n",
    "results['label'] = C_values\n",
    "results = results.set_index('label')\n",
    "sns.heatmap(results)\n",
    "plt.xlabel('Accuracy')\n",
    "plt.ylabel('Regularization strength C')"
   ]
  },
  {
   "cell_type": "code",
   "execution_count": 114,
   "metadata": {},
   "outputs": [
    {
     "name": "stderr",
     "output_type": "stream",
     "text": [
      "/Users/gabrielhanson/anaconda3/envs/metabolism/lib/python3.7/site-packages/seaborn/_decorators.py:43: FutureWarning: Pass the following variables as keyword args: x, y. From version 0.12, the only valid positional argument will be `data`, and passing other arguments without an explicit keyword will result in an error or misinterpretation.\n",
      "  FutureWarning\n"
     ]
    },
    {
     "data": {
      "text/plain": [
       "[Text(0.5, 1.0, 'Parameterization')]"
      ]
     },
     "execution_count": 114,
     "metadata": {},
     "output_type": "execute_result"
    },
    {
     "data": {
      "image/png": "[encoded data removed]",
      "text/plain": [
       "<Figure size 432x288 with 1 Axes>"
      ]
     },
     "metadata": {
      "needs_background": "light"
     },
     "output_type": "display_data"
    }
   ],
   "source": [
    "lineplot = sns.lineplot(results.index, results[0])\n",
    "lineplot.set(xscale='log')\n",
    "lineplot.set(xlabel = 'Regularization strength C')\n",
    "lineplot.set(ylabel = 'Accuracy')\n",
    "lineplot.set(title = 'Parameterization')"
   ]
  },
  {
   "cell_type": "code",
   "execution_count": 8,
   "metadata": {},
   "outputs": [
    {
     "data": {
      "text/plain": [
       "LogisticRegression(random_state=42)"
      ]
     },
     "execution_count": 8,
     "metadata": {},
     "output_type": "execute_result"
    }
   ],
   "source": [
    "# fit the model\n",
    "logReg.fit(X_scaled, y_train)"
   ]
  },
  {
   "cell_type": "code",
   "execution_count": 9,
   "metadata": {},
   "outputs": [],
   "source": [
    "# use the model to make predictinos\n",
    "logReg.predict(X_scaled);"
   ]
  },
  {
   "cell_type": "code",
   "execution_count": 10,
   "metadata": {},
   "outputs": [],
   "source": [
    "logReg.predict_proba(X_scaled);"
   ]
  },
  {
   "cell_type": "code",
   "execution_count": 11,
   "metadata": {},
   "outputs": [
    {
     "data": {
      "text/plain": [
       "0.9874371859296482"
      ]
     },
     "execution_count": 11,
     "metadata": {},
     "output_type": "execute_result"
    }
   ],
   "source": [
    "logReg.score(X_scaled,y_train)"
   ]
  },
  {
   "cell_type": "code",
   "execution_count": 12,
   "metadata": {},
   "outputs": [],
   "source": [
    "# test"
   ]
  },
  {
   "cell_type": "code",
   "execution_count": 13,
   "metadata": {},
   "outputs": [],
   "source": [
    "test_scaled = scaler.transform(X_test)\n",
    "predictions = logReg.predict(test_scaled)"
   ]
  },
  {
   "cell_type": "code",
   "execution_count": 14,
   "metadata": {},
   "outputs": [
    {
     "data": {
      "text/plain": [
       "<function sklearn.metrics._classification.confusion_matrix(y_true, y_pred, *, labels=None, sample_weight=None, normalize=None)>"
      ]
     },
     "execution_count": 14,
     "metadata": {},
     "output_type": "execute_result"
    }
   ],
   "source": [
    "metrics.confusion_matrix"
   ]
  },
  {
   "cell_type": "code",
   "execution_count": 15,
   "metadata": {},
   "outputs": [
    {
     "data": {
      "text/plain": [
       "0.9824561403508771"
      ]
     },
     "execution_count": 15,
     "metadata": {},
     "output_type": "execute_result"
    }
   ],
   "source": [
    "# accuracy A = (TP + TN) / (TP + FN + FP + TN)\n",
    "accuracy = logReg.score(test_scaled,y_test)\n",
    "accuracy"
   ]
  },
  {
   "cell_type": "code",
   "execution_count": 16,
   "metadata": {},
   "outputs": [
    {
     "data": {
      "text/plain": [
       "array([[107,   1],\n",
       "       [  2,  61]])"
      ]
     },
     "execution_count": 16,
     "metadata": {},
     "output_type": "execute_result"
    }
   ],
   "source": [
    "# confusion matrix\n",
    "cm = metrics.confusion_matrix(y_test, predictions)\n",
    "cm"
   ]
  },
  {
   "cell_type": "code",
   "execution_count": 17,
   "metadata": {},
   "outputs": [
    {
     "data": {
      "text/plain": [
       "1"
      ]
     },
     "execution_count": 17,
     "metadata": {},
     "output_type": "execute_result"
    }
   ],
   "source": [
    "cm[0][1]"
   ]
  },
  {
   "cell_type": "code",
   "execution_count": 18,
   "metadata": {},
   "outputs": [
    {
     "data": {
      "text/plain": [
       "0.9907407407407407"
      ]
     },
     "execution_count": 18,
     "metadata": {},
     "output_type": "execute_result"
    }
   ],
   "source": [
    "# precision: p = TP / (TP + FP)\n",
    "precision = (cm[0][0])/(cm[0][0] + cm[0][1])\n",
    "precision"
   ]
  },
  {
   "cell_type": "code",
   "execution_count": 19,
   "metadata": {},
   "outputs": [
    {
     "data": {
      "text/plain": [
       "0.981651376146789"
      ]
     },
     "execution_count": 19,
     "metadata": {},
     "output_type": "execute_result"
    }
   ],
   "source": [
    "# recall: r = TP / ( TP + FN)\n",
    "recall = (cm[0][0])/(cm[0][0]+cm[1][0])\n",
    "recall"
   ]
  },
  {
   "cell_type": "code",
   "execution_count": 20,
   "metadata": {},
   "outputs": [
    {
     "data": {
      "text/plain": [
       "0.9861751152073732"
      ]
     },
     "execution_count": 20,
     "metadata": {},
     "output_type": "execute_result"
    }
   ],
   "source": [
    "# F1: F = 2*r*r / (r + p)\n",
    "F1 = 2*precision*recall/(precision+recall)\n",
    "F1"
   ]
  },
  {
   "cell_type": "code",
   "execution_count": 21,
   "metadata": {},
   "outputs": [
    {
     "data": {
      "text/plain": [
       "0.9794973544973545"
      ]
     },
     "execution_count": 21,
     "metadata": {},
     "output_type": "execute_result"
    }
   ],
   "source": [
    "# AUC: gotta figure this one out\n",
    "auc = metrics.roc_auc_score(y_test,predictions)\n",
    "auc"
   ]
  },
  {
   "cell_type": "code",
   "execution_count": 22,
   "metadata": {},
   "outputs": [
    {
     "data": {
      "image/png": "[encoded data removed]",
      "text/plain": [
       "<Figure size 432x288 with 1 Axes>"
      ]
     },
     "metadata": {
      "needs_background": "light"
     },
     "output_type": "display_data"
    }
   ],
   "source": [
    "#define metrics\n",
    "fpr, tpr, _ = metrics.roc_curve(y_test,  predictions)\n",
    "auc = metrics.roc_auc_score(y_test, predictions)\n",
    "\n",
    "#create ROC curve\n",
    "plt.plot(fpr,tpr, label=\"AUC=\"+str(auc), color = 'darkorange')\n",
    "plt.plot([0, 1], [0, 1], color=\"navy\", linestyle=\"--\")\n",
    "plt.ylabel('True Positive Rate')\n",
    "plt.xlabel('False Positive Rate')\n",
    "plt.legend(loc = 4)\n",
    "plt.show()"
   ]
  },
  {
   "cell_type": "markdown",
   "metadata": {},
   "source": [
    "## dataset2"
   ]
  },
  {
   "cell_type": "code",
   "execution_count": 23,
   "metadata": {},
   "outputs": [],
   "source": [
    "X_train, X_test, y_train, y_test = train_test_split(data2_X, data2_y, test_size=0.3, random_state=42)"
   ]
  },
  {
   "cell_type": "code",
   "execution_count": null,
   "metadata": {},
   "outputs": [],
   "source": []
  }
 ],
 "metadata": {
  "kernelspec": {
   "display_name": "Tensorflow",
   "language": "python",
   "name": "tensorflow"
  },
  "language_info": {
   "codemirror_mode": {
    "name": "ipython",
    "version": 3
   },
   "file_extension": ".py",
   "mimetype": "text/x-python",
   "name": "python",
   "nbconvert_exporter": "python",
   "pygments_lexer": "ipython3",
   "version": "3.10.4"
  }
 },
 "nbformat": 4,
 "nbformat_minor": 4
}
